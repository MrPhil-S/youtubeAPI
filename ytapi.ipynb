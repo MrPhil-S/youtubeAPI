{
 "cells": [
  {
   "cell_type": "code",
   "execution_count": null,
   "metadata": {},
   "outputs": [],
   "source": [
    "import credentials"
   ]
  }
 ],
 "metadata": {
  "interpreter": {
   "hash": "84ae969a0e4ae7a96327d0072ec77e9b7b72bb7475399bc91d70b97835a1cac1"
  },
  "kernelspec": {
   "display_name": "Python 3.9.7 64-bit",
   "language": "python",
   "name": "python3"
  },
  "language_info": {
   "name": "python",
   "version": "3.9.7"
  },
  "orig_nbformat": 4
 },
 "nbformat": 4,
 "nbformat_minor": 2
}
