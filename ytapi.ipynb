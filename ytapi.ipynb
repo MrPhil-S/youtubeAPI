{
 "cells": [
  {
   "cell_type": "code",
   "execution_count": 26,
   "metadata": {},
   "outputs": [
    {
     "name": "stdout",
     "output_type": "stream",
     "text": [
      "Please visit this URL to authorize this application: https://accounts.google.com/o/oauth2/auth?response_type=code&client_id=237356842276-3hngl8qt3g5dak23as88j5tmj3qpt0dv.apps.googleusercontent.com&redirect_uri=urn%3Aietf%3Awg%3Aoauth%3A2.0%3Aoob&scope=https%3A%2F%2Fwww.googleapis.com%2Fauth%2Fyoutube.readonly&state=QRNbyjmZCJrirdt6JTmfzHQN057UYJ&prompt=consent&access_type=offline\n"
     ]
    },
    {
     "ename": "ValueError",
     "evalue": "Please supply either code or authorization_response parameters.",
     "output_type": "error",
     "traceback": [
      "\u001b[1;31m---------------------------------------------------------------------------\u001b[0m",
      "\u001b[1;31mValueError\u001b[0m                                Traceback (most recent call last)",
      "\u001b[1;32mc:\\projects\\YouTubeAPI\\ytapi.ipynb Cell 1'\u001b[0m in \u001b[0;36m<cell line: 39>\u001b[1;34m()\u001b[0m\n\u001b[0;32m     <a href='vscode-notebook-cell:/c%3A/projects/YouTubeAPI/ytapi.ipynb#ch0000000?line=36'>37</a>\u001b[0m     \u001b[39mprint\u001b[39m(response)\n\u001b[0;32m     <a href='vscode-notebook-cell:/c%3A/projects/YouTubeAPI/ytapi.ipynb#ch0000000?line=38'>39</a>\u001b[0m \u001b[39mif\u001b[39;00m \u001b[39m__name__\u001b[39m \u001b[39m==\u001b[39m \u001b[39m\"\u001b[39m\u001b[39m__main__\u001b[39m\u001b[39m\"\u001b[39m:\n\u001b[1;32m---> <a href='vscode-notebook-cell:/c%3A/projects/YouTubeAPI/ytapi.ipynb#ch0000000?line=39'>40</a>\u001b[0m     main()\n",
      "\u001b[1;32mc:\\projects\\YouTubeAPI\\ytapi.ipynb Cell 1'\u001b[0m in \u001b[0;36mmain\u001b[1;34m()\u001b[0m\n\u001b[0;32m     <a href='vscode-notebook-cell:/c%3A/projects/YouTubeAPI/ytapi.ipynb#ch0000000?line=23'>24</a>\u001b[0m \u001b[39m# Get credentials and create an API client\u001b[39;00m\n\u001b[0;32m     <a href='vscode-notebook-cell:/c%3A/projects/YouTubeAPI/ytapi.ipynb#ch0000000?line=24'>25</a>\u001b[0m flow \u001b[39m=\u001b[39m google_auth_oauthlib\u001b[39m.\u001b[39mflow\u001b[39m.\u001b[39mInstalledAppFlow\u001b[39m.\u001b[39mfrom_client_secrets_file(\n\u001b[0;32m     <a href='vscode-notebook-cell:/c%3A/projects/YouTubeAPI/ytapi.ipynb#ch0000000?line=25'>26</a>\u001b[0m     client_secrets_file, scopes)\n\u001b[1;32m---> <a href='vscode-notebook-cell:/c%3A/projects/YouTubeAPI/ytapi.ipynb#ch0000000?line=26'>27</a>\u001b[0m credentials \u001b[39m=\u001b[39m flow\u001b[39m.\u001b[39;49mrun_console()\n\u001b[0;32m     <a href='vscode-notebook-cell:/c%3A/projects/YouTubeAPI/ytapi.ipynb#ch0000000?line=27'>28</a>\u001b[0m youtube \u001b[39m=\u001b[39m googleapiclient\u001b[39m.\u001b[39mdiscovery\u001b[39m.\u001b[39mbuild(\n\u001b[0;32m     <a href='vscode-notebook-cell:/c%3A/projects/YouTubeAPI/ytapi.ipynb#ch0000000?line=28'>29</a>\u001b[0m     api_service_name, api_version, credentials\u001b[39m=\u001b[39mcredentials)\n\u001b[0;32m     <a href='vscode-notebook-cell:/c%3A/projects/YouTubeAPI/ytapi.ipynb#ch0000000?line=30'>31</a>\u001b[0m request \u001b[39m=\u001b[39m youtube\u001b[39m.\u001b[39mchannels()\u001b[39m.\u001b[39mlist(\n\u001b[0;32m     <a href='vscode-notebook-cell:/c%3A/projects/YouTubeAPI/ytapi.ipynb#ch0000000?line=31'>32</a>\u001b[0m     part\u001b[39m=\u001b[39m\u001b[39m\"\u001b[39m\u001b[39msnippet,contentDetails,statistics\u001b[39m\u001b[39m\"\u001b[39m,\n\u001b[0;32m     <a href='vscode-notebook-cell:/c%3A/projects/YouTubeAPI/ytapi.ipynb#ch0000000?line=32'>33</a>\u001b[0m     \u001b[39mid\u001b[39m\u001b[39m=\u001b[39m\u001b[39m\"\u001b[39m\u001b[39mUC_x5XG1OV2P6uZZ5FSM9Ttw\u001b[39m\u001b[39m\"\u001b[39m\n\u001b[0;32m     <a href='vscode-notebook-cell:/c%3A/projects/YouTubeAPI/ytapi.ipynb#ch0000000?line=33'>34</a>\u001b[0m )\n",
      "File \u001b[1;32mc:\\projects\\YouTubeAPI\\ytvenv\\lib\\site-packages\\google_auth_oauthlib\\flow.py:439\u001b[0m, in \u001b[0;36mInstalledAppFlow.run_console\u001b[1;34m(self, authorization_prompt_message, authorization_code_message, **kwargs)\u001b[0m\n\u001b[0;32m    <a href='file:///c%3A/projects/YouTubeAPI/ytvenv/lib/site-packages/google_auth_oauthlib/flow.py?line=434'>435</a>\u001b[0m \u001b[39mprint\u001b[39m(authorization_prompt_message\u001b[39m.\u001b[39mformat(url\u001b[39m=\u001b[39mauth_url))\n\u001b[0;32m    <a href='file:///c%3A/projects/YouTubeAPI/ytvenv/lib/site-packages/google_auth_oauthlib/flow.py?line=436'>437</a>\u001b[0m code \u001b[39m=\u001b[39m \u001b[39minput\u001b[39m(authorization_code_message)\n\u001b[1;32m--> <a href='file:///c%3A/projects/YouTubeAPI/ytvenv/lib/site-packages/google_auth_oauthlib/flow.py?line=438'>439</a>\u001b[0m \u001b[39mself\u001b[39;49m\u001b[39m.\u001b[39;49mfetch_token(code\u001b[39m=\u001b[39;49mcode)\n\u001b[0;32m    <a href='file:///c%3A/projects/YouTubeAPI/ytvenv/lib/site-packages/google_auth_oauthlib/flow.py?line=440'>441</a>\u001b[0m \u001b[39mreturn\u001b[39;00m \u001b[39mself\u001b[39m\u001b[39m.\u001b[39mcredentials\n",
      "File \u001b[1;32mc:\\projects\\YouTubeAPI\\ytvenv\\lib\\site-packages\\google_auth_oauthlib\\flow.py:300\u001b[0m, in \u001b[0;36mFlow.fetch_token\u001b[1;34m(self, **kwargs)\u001b[0m\n\u001b[0;32m    <a href='file:///c%3A/projects/YouTubeAPI/ytvenv/lib/site-packages/google_auth_oauthlib/flow.py?line=297'>298</a>\u001b[0m kwargs\u001b[39m.\u001b[39msetdefault(\u001b[39m\"\u001b[39m\u001b[39mclient_secret\u001b[39m\u001b[39m\"\u001b[39m, \u001b[39mself\u001b[39m\u001b[39m.\u001b[39mclient_config[\u001b[39m\"\u001b[39m\u001b[39mclient_secret\u001b[39m\u001b[39m\"\u001b[39m])\n\u001b[0;32m    <a href='file:///c%3A/projects/YouTubeAPI/ytvenv/lib/site-packages/google_auth_oauthlib/flow.py?line=298'>299</a>\u001b[0m kwargs\u001b[39m.\u001b[39msetdefault(\u001b[39m\"\u001b[39m\u001b[39mcode_verifier\u001b[39m\u001b[39m\"\u001b[39m, \u001b[39mself\u001b[39m\u001b[39m.\u001b[39mcode_verifier)\n\u001b[1;32m--> <a href='file:///c%3A/projects/YouTubeAPI/ytvenv/lib/site-packages/google_auth_oauthlib/flow.py?line=299'>300</a>\u001b[0m \u001b[39mreturn\u001b[39;00m \u001b[39mself\u001b[39m\u001b[39m.\u001b[39moauth2session\u001b[39m.\u001b[39mfetch_token(\u001b[39mself\u001b[39m\u001b[39m.\u001b[39mclient_config[\u001b[39m\"\u001b[39m\u001b[39mtoken_uri\u001b[39m\u001b[39m\"\u001b[39m], \u001b[39m*\u001b[39m\u001b[39m*\u001b[39mkwargs)\n",
      "File \u001b[1;32mc:\\projects\\YouTubeAPI\\ytvenv\\lib\\site-packages\\requests_oauthlib\\oauth2_session.py:251\u001b[0m, in \u001b[0;36mOAuth2Session.fetch_token\u001b[1;34m(self, token_url, code, authorization_response, body, auth, username, password, method, force_querystring, timeout, headers, verify, proxies, include_client_id, client_secret, cert, **kwargs)\u001b[0m\n\u001b[0;32m    <a href='file:///c%3A/projects/YouTubeAPI/ytvenv/lib/site-packages/requests_oauthlib/oauth2_session.py?line=248'>249</a>\u001b[0m     code \u001b[39m=\u001b[39m \u001b[39mself\u001b[39m\u001b[39m.\u001b[39m_client\u001b[39m.\u001b[39mcode\n\u001b[0;32m    <a href='file:///c%3A/projects/YouTubeAPI/ytvenv/lib/site-packages/requests_oauthlib/oauth2_session.py?line=249'>250</a>\u001b[0m     \u001b[39mif\u001b[39;00m \u001b[39mnot\u001b[39;00m code:\n\u001b[1;32m--> <a href='file:///c%3A/projects/YouTubeAPI/ytvenv/lib/site-packages/requests_oauthlib/oauth2_session.py?line=250'>251</a>\u001b[0m         \u001b[39mraise\u001b[39;00m \u001b[39mValueError\u001b[39;00m(\n\u001b[0;32m    <a href='file:///c%3A/projects/YouTubeAPI/ytvenv/lib/site-packages/requests_oauthlib/oauth2_session.py?line=251'>252</a>\u001b[0m             \u001b[39m\"\u001b[39m\u001b[39mPlease supply either code or \u001b[39m\u001b[39m\"\u001b[39m \u001b[39m\"\u001b[39m\u001b[39mauthorization_response parameters.\u001b[39m\u001b[39m\"\u001b[39m\n\u001b[0;32m    <a href='file:///c%3A/projects/YouTubeAPI/ytvenv/lib/site-packages/requests_oauthlib/oauth2_session.py?line=252'>253</a>\u001b[0m         )\n\u001b[0;32m    <a href='file:///c%3A/projects/YouTubeAPI/ytvenv/lib/site-packages/requests_oauthlib/oauth2_session.py?line=254'>255</a>\u001b[0m \u001b[39m# Earlier versions of this library build an HTTPBasicAuth header out of\u001b[39;00m\n\u001b[0;32m    <a href='file:///c%3A/projects/YouTubeAPI/ytvenv/lib/site-packages/requests_oauthlib/oauth2_session.py?line=255'>256</a>\u001b[0m \u001b[39m# `username` and `password`. The RFC states, however these attributes\u001b[39;00m\n\u001b[0;32m    <a href='file:///c%3A/projects/YouTubeAPI/ytvenv/lib/site-packages/requests_oauthlib/oauth2_session.py?line=256'>257</a>\u001b[0m \u001b[39m# must be in the request body and not the header.\u001b[39;00m\n\u001b[1;32m   (...)\u001b[0m\n\u001b[0;32m    <a href='file:///c%3A/projects/YouTubeAPI/ytvenv/lib/site-packages/requests_oauthlib/oauth2_session.py?line=263'>264</a>\u001b[0m \u001b[39m# 4.3.2 - Resource Owner Password Credentials Grant\u001b[39;00m\n\u001b[0;32m    <a href='file:///c%3A/projects/YouTubeAPI/ytvenv/lib/site-packages/requests_oauthlib/oauth2_session.py?line=264'>265</a>\u001b[0m \u001b[39m#         https://tools.ietf.org/html/rfc6749#section-4.3.2\u001b[39;00m\n\u001b[0;32m    <a href='file:///c%3A/projects/YouTubeAPI/ytvenv/lib/site-packages/requests_oauthlib/oauth2_session.py?line=266'>267</a>\u001b[0m \u001b[39mif\u001b[39;00m \u001b[39misinstance\u001b[39m(\u001b[39mself\u001b[39m\u001b[39m.\u001b[39m_client, LegacyApplicationClient):\n",
      "\u001b[1;31mValueError\u001b[0m: Please supply either code or authorization_response parameters."
     ]
    }
   ],
   "source": [
    "# -*- coding: utf-8 -*-\n",
    "\n",
    "# Sample Python code for youtube.channels.list\n",
    "# See instructions for running these code samples locally:\n",
    "# https://developers.google.com/explorer-help/code-samples#python\n",
    "\n",
    "import os\n",
    "\n",
    "import google_auth_oauthlib.flow\n",
    "import googleapiclient.discovery\n",
    "import googleapiclient.errors\n",
    "\n",
    "scopes = [\"https://www.googleapis.com/auth/youtube.readonly\"]\n",
    "\n",
    "def main():\n",
    "    # Disable OAuthlib's HTTPS verification when running locally.\n",
    "    # *DO NOT* leave this option enabled in production.\n",
    "    os.environ[\"OAUTHLIB_INSECURE_TRANSPORT\"] = \"1\"\n",
    "\n",
    "    api_service_name = \"youtube\"\n",
    "    api_version = \"v3\"\n",
    "    client_secrets_file = \"client_secret_237356842276-3hngl8qt3g5dak23as88j5tmj3qpt0dv.apps.googleusercontent.com.json\"\n",
    "\n",
    "    # Get credentials and create an API client\n",
    "    flow = google_auth_oauthlib.flow.InstalledAppFlow.from_client_secrets_file(\n",
    "        client_secrets_file, scopes)\n",
    "    credentials = flow.run_console()\n",
    "    youtube = googleapiclient.discovery.build(\n",
    "        api_service_name, api_version, credentials=credentials)\n",
    "\n",
    "    request = youtube.channels().list(\n",
    "        part=\"snippet,contentDetails,statistics\",\n",
    "        id=\"UC_x5XG1OV2P6uZZ5FSM9Ttw\"\n",
    "    )\n",
    "    response = request.execute()\n",
    "\n",
    "    print(response)\n",
    "\n",
    "if __name__ == \"__main__\":\n",
    "    main()"
   ]
  },
  {
   "cell_type": "code",
   "execution_count": 21,
   "metadata": {},
   "outputs": [
    {
     "ename": "SyntaxError",
     "evalue": "invalid syntax (1756081989.py, line 31)",
     "output_type": "error",
     "traceback": [
      "\u001b[1;36m  Input \u001b[1;32mIn [21]\u001b[1;36m\u001b[0m\n\u001b[1;33m    else:\u001b[0m\n\u001b[1;37m    ^\u001b[0m\n\u001b[1;31mSyntaxError\u001b[0m\u001b[1;31m:\u001b[0m invalid syntax\n"
     ]
    }
   ],
   "source": [
    "import credentials\n",
    "\n",
    "import os\n",
    "import urllib\n",
    "import webapp2\n",
    "import jinja2\n",
    "\n",
    "from apiclient.discovery import build\n",
    "from optparse import OptionParser\n",
    "\n",
    "JINJA_ENVIRONMENT = jinja2.Environment(\n",
    "    loader=jinja2.FileSystemLoader(os.path.dirname(__file__)),\n",
    "    extensions=['jinja2.ext.autoescape'])\n",
    "\n",
    "key = credentials.APIKey\n",
    "\n",
    "# Set DEVELOPER_KEY to the \"API key\" value from the Google Developers Console:\n",
    "# https://console.developers.google.com/project/_/apiui/credential\n",
    "# Please ensure that you have enabled the YouTube Data API for your project.\n",
    "DEVELOPER_KEY = key\n",
    "YOUTUBE_API_SERVICE_NAME = \"youtube\"\n",
    "YOUTUBE_API_VERSION = \"v3\"\n",
    "\n",
    "class MainHandler(webapp2.RequestHandler):\n",
    "   \n",
    "   def get(self):\n",
    "        if DEVELOPER_KEY == key:\n",
    "          self.response.write(\"\"\"You must set up a project and get an API key\n",
    "                                 to run this project.  Please visit \n",
    "                                 <landing page> to do so.\"\"\"\n",
    "        else:\n",
    "          youtube = build(\n",
    "            YOUTUBE_API_SERVICE_NAME, \n",
    "            YOUTUBE_API_VERSION, \n",
    "            developerKey=DEVELOPER_KEY)\n",
    "          search_response = youtube.search().list(\n",
    "            q=\"Hello\",\n",
    "            part=\"id,snippet\",\n",
    "            maxResults=5\n",
    "          ).execute()\n",
    "        \n",
    "          videos = []\n",
    "          channels = []\n",
    "          playlists = []\n",
    "        \n",
    "          for search_result in search_response.get(\"items\", []):\n",
    "            if search_result[\"id\"][\"kind\"] == \"youtube#video\":\n",
    "                videos.append(\"%s (%s)\" % (search_result[\"snippet\"][\"title\"], \n",
    "                  search_result[\"id\"][\"videoId\"]))\n",
    "            elif search_result[\"id\"][\"kind\"] == \"youtube#channel\":\n",
    "                channels.append(\"%s (%s)\" % (search_result[\"snippet\"][\"title\"], \n",
    "                  search_result[\"id\"][\"channelId\"]))\n",
    "            elif search_result[\"id\"][\"kind\"] == \"youtube#playlist\":\n",
    "                playlists.append(\"%s (%s)\" % (search_result[\"snippet\"][\"title\"], \n",
    "                  search_result[\"id\"][\"playlistId\"]))\n",
    "        \n",
    "          template_values = {\n",
    "           'videos': videos,\n",
    "           'channels': channels,\n",
    "           'playlists': playlists\n",
    "          }\n",
    "       \n",
    "          self.response.headers['Content-type'] = 'text/plain' \n",
    "          template = JINJA_ENVIRONMENT.get_template('index.html')\n",
    "          self.response.write(template.render(template_values))\n",
    "        \n",
    "app = webapp2.WSGIApplication([\n",
    "  ('/.*', MainHandler),\n",
    "], debug=True)"
   ]
  },
  {
   "cell_type": "code",
   "execution_count": 15,
   "metadata": {},
   "outputs": [
    {
     "name": "stdout",
     "output_type": "stream",
     "text": [
      "{'kind': 'youtube#channelListResponse', 'etag': 'RuuXzTIr0OoDqI4S0RU6n4FqKEM', 'pageInfo': {'totalResults': 0, 'resultsPerPage': 5}}\n"
     ]
    }
   ],
   "source": [
    "from googleapiclient.discovery import build\n",
    "import credentials\n",
    "\n",
    "api_key = credentials.APIKey\n",
    "\n",
    "youtube = build('youtube', 'v3', developerKey=api_key)\n",
    "\n",
    "request = youtube.channels().list(\n",
    "        part='statistics',\n",
    "        forUsername='schafer5'\n",
    "    )\n",
    "\n",
    "response = request.execute()\n",
    "\n",
    "print(response)"
   ]
  }
 ],
 "metadata": {
  "interpreter": {
   "hash": "dfcd3d080480806dce023d5f6ae750512b9c16d5ec99c271e6d9ddc8eaee884e"
  },
  "kernelspec": {
   "display_name": "Python 3.9.7 ('ytvenv': venv)",
   "language": "python",
   "name": "python3"
  },
  "language_info": {
   "codemirror_mode": {
    "name": "ipython",
    "version": 3
   },
   "file_extension": ".py",
   "mimetype": "text/x-python",
   "name": "python",
   "nbconvert_exporter": "python",
   "pygments_lexer": "ipython3",
   "version": "3.9.7"
  },
  "orig_nbformat": 4
 },
 "nbformat": 4,
 "nbformat_minor": 2
}
